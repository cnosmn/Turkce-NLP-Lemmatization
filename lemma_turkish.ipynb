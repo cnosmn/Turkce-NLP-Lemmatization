{
 "cells": [
  {
   "cell_type": "code",
   "execution_count": 1,
   "id": "0f1449e1",
   "metadata": {},
   "outputs": [],
   "source": [
    "#!pip install zeyrek"
   ]
  },
  {
   "cell_type": "code",
   "execution_count": 2,
   "id": "017d0ce8",
   "metadata": {},
   "outputs": [
    {
     "name": "stderr",
     "output_type": "stream",
     "text": [
      "[nltk_data] Downloading package punkt to\n",
      "[nltk_data]     C:\\Users\\osman\\AppData\\Roaming\\nltk_data...\n",
      "[nltk_data]   Package punkt is already up-to-date!\n"
     ]
    }
   ],
   "source": [
    "import nltk\n",
    "nltk.download('punkt')\n",
    "import zeyrek\n",
    "analyzer = zeyrek.MorphAnalyzer()"
   ]
  },
  {
   "cell_type": "code",
   "execution_count": 3,
   "id": "45568032",
   "metadata": {},
   "outputs": [
    {
     "name": "stdout",
     "output_type": "stream",
     "text": [
      "[('benim', ['ben'])]\n"
     ]
    }
   ],
   "source": [
    "print(analyzer.lemmatize('benim'))"
   ]
  },
  {
   "cell_type": "code",
   "execution_count": 4,
   "id": "aa6405ba",
   "metadata": {},
   "outputs": [
    {
     "data": {
      "text/plain": [
       "list"
      ]
     },
     "execution_count": 4,
     "metadata": {},
     "output_type": "execute_result"
    }
   ],
   "source": [
    "type(analyzer.lemmatize('benim'))"
   ]
  },
  {
   "cell_type": "code",
   "execution_count": 5,
   "id": "5b951e7e",
   "metadata": {},
   "outputs": [
    {
     "name": "stdout",
     "output_type": "stream",
     "text": [
      "Parse(word='benim', lemma='ben', pos='Noun', morphemes=['Noun', 'A3sg', 'P1sg'], formatted='[ben:Noun] ben:Noun+A3sg+im:P1sg')\n",
      "Parse(word='benim', lemma='ben', pos='Pron', morphemes=['Pron', 'A1sg', 'Gen'], formatted='[ben:Pron,Pers] ben:Pron+A1sg+im:Gen')\n",
      "Parse(word='benim', lemma='ben', pos='Verb', morphemes=['Noun', 'A3sg', 'Zero', 'Verb', 'Pres', 'A1sg'], formatted='[ben:Noun] ben:Noun+A3sg|Zero→Verb+Pres+im:A1sg')\n",
      "Parse(word='benim', lemma='ben', pos='Verb', morphemes=['Pron', 'A1sg', 'Zero', 'Verb', 'Pres', 'A1sg'], formatted='[ben:Pron,Pers] ben:Pron+A1sg|Zero→Verb+Pres+im:A1sg')\n"
     ]
    }
   ],
   "source": [
    "#kelime özellikleri -yapısı hakkında bilgi \n",
    "\n",
    "for parse in analyzer.analyze('benim')[0]:\n",
    "    print(parse)"
   ]
  },
  {
   "cell_type": "code",
   "execution_count": 6,
   "id": "bce95b30",
   "metadata": {},
   "outputs": [],
   "source": [
    "kelime = 'ben oyun oynamayı çok seviyorum'"
   ]
  },
  {
   "cell_type": "code",
   "execution_count": 7,
   "id": "0d697b7a",
   "metadata": {},
   "outputs": [
    {
     "data": {
      "text/plain": [
       "['ben', 'oyun', 'oynamayı', 'çok', 'seviyorum']"
      ]
     },
     "execution_count": 7,
     "metadata": {},
     "output_type": "execute_result"
    }
   ],
   "source": [
    "splitt = kelime.split()\n",
    "splitt"
   ]
  },
  {
   "cell_type": "code",
   "execution_count": 8,
   "id": "7ee889de",
   "metadata": {},
   "outputs": [
    {
     "name": "stdout",
     "output_type": "stream",
     "text": [
      "[('ben', ['ben'])]\n",
      "[('oyun', ['oymak', 'oy', 'oyun'])]\n",
      "[('oynamayı', ['oynamak'])]\n",
      "[('çok', ['çok'])]\n",
      "[('seviyorum', ['sevmek'])]\n"
     ]
    }
   ],
   "source": [
    "for word in splitt:\n",
    "    print(analyzer.lemmatize(word))"
   ]
  },
  {
   "cell_type": "code",
   "execution_count": 9,
   "id": "db618fd3",
   "metadata": {},
   "outputs": [],
   "source": [
    "kelime2 = 'seninle konuşmak çok eğlenceliydi'"
   ]
  },
  {
   "cell_type": "code",
   "execution_count": 10,
   "id": "434592f8",
   "metadata": {},
   "outputs": [
    {
     "data": {
      "text/plain": [
       "['seninle', 'konuşmak', 'çok', 'eğlenceliydi']"
      ]
     },
     "execution_count": 10,
     "metadata": {},
     "output_type": "execute_result"
    }
   ],
   "source": [
    "splitt2 = kelime2.split()\n",
    "splitt2"
   ]
  },
  {
   "cell_type": "code",
   "execution_count": 11,
   "id": "6f038ecf",
   "metadata": {},
   "outputs": [
    {
     "name": "stdout",
     "output_type": "stream",
     "text": [
      "[('seninle', ['sen'])]\n",
      "[('konuşmak', ['konuşmak'])]\n",
      "[('çok', ['çok'])]\n",
      "[('eğlenceliydi', ['eğlence'])]\n"
     ]
    }
   ],
   "source": [
    "for word in splitt2:\n",
    "    print(analyzer.lemmatize(word))"
   ]
  },
  {
   "cell_type": "code",
   "execution_count": 12,
   "id": "7ca0d870",
   "metadata": {},
   "outputs": [
    {
     "name": "stdout",
     "output_type": "stream",
     "text": [
      "[('seninle', ['sen']), ('konuşmak', ['konuşmak']), ('çok', ['çok']), ('eğlenceliydi', ['eğlence'])]\n"
     ]
    }
   ],
   "source": [
    "print(analyzer.lemmatize('seninle konuşmak çok eğlenceliydi'))"
   ]
  },
  {
   "cell_type": "code",
   "execution_count": 13,
   "id": "4e5b9b63",
   "metadata": {},
   "outputs": [
    {
     "name": "stdout",
     "output_type": "stream",
     "text": [
      "[['sen']]\n",
      "[['sen'], ['konuşmak']]\n",
      "[['sen'], ['konuşmak'], ['çok']]\n",
      "[['sen'], ['konuşmak'], ['çok'], ['eğlence']]\n"
     ]
    }
   ],
   "source": [
    "tune = []\n",
    "for i in analyzer.lemmatize('seninle konuşmak çok eğlenceliydi'):\n",
    "    j=1\n",
    "    tune.append(i[j])\n",
    "    print(tune)"
   ]
  },
  {
   "cell_type": "code",
   "execution_count": 14,
   "id": "8f75e7c8",
   "metadata": {},
   "outputs": [
    {
     "data": {
      "text/plain": [
       "[['sen'], ['konuşmak'], ['çok'], ['eğlence']]"
      ]
     },
     "execution_count": 14,
     "metadata": {},
     "output_type": "execute_result"
    }
   ],
   "source": [
    "tune"
   ]
  },
  {
   "cell_type": "code",
   "execution_count": 15,
   "id": "441298ad",
   "metadata": {},
   "outputs": [
    {
     "data": {
      "text/plain": [
       "list"
      ]
     },
     "execution_count": 15,
     "metadata": {},
     "output_type": "execute_result"
    }
   ],
   "source": [
    "type(tune)"
   ]
  },
  {
   "cell_type": "code",
   "execution_count": 16,
   "id": "40f9a606",
   "metadata": {},
   "outputs": [
    {
     "data": {
      "text/plain": [
       "4"
      ]
     },
     "execution_count": 16,
     "metadata": {},
     "output_type": "execute_result"
    }
   ],
   "source": [
    "column = len(tune)\n",
    "column"
   ]
  },
  {
   "cell_type": "code",
   "execution_count": 17,
   "id": "face86f5",
   "metadata": {},
   "outputs": [
    {
     "data": {
      "text/plain": [
       "1"
      ]
     },
     "execution_count": 17,
     "metadata": {},
     "output_type": "execute_result"
    }
   ],
   "source": [
    "row = len(tune[0])\n",
    "row"
   ]
  },
  {
   "cell_type": "code",
   "execution_count": 18,
   "id": "28798b36",
   "metadata": {},
   "outputs": [],
   "source": [
    "cumleler = ['Ben sabahtan akşama kadar çalışıyorum','Demet Ankara Üniversitesinde çalışıyor','Ali de bizimle pikniğe gelecek mi','bir türlü şu çöplerden kurtulamıyorum']"
   ]
  },
  {
   "cell_type": "code",
   "execution_count": 19,
   "id": "80482859",
   "metadata": {},
   "outputs": [],
   "source": [
    "tune_all = []\n",
    "kok_kelimeler = []\n",
    "for i in cumleler:\n",
    "    for j in analyzer.lemmatize(i):\n",
    "        tune_all.append(j[1])\n",
    "        kok_kelimeler.append(tune_all)"
   ]
  },
  {
   "cell_type": "code",
   "execution_count": 20,
   "id": "850ded5b",
   "metadata": {},
   "outputs": [
    {
     "data": {
      "text/plain": [
       "[[['ben'],\n",
       "  ['sabahtan', 'Sabah', 'sabah'],\n",
       "  ['akşam'],\n",
       "  ['kadar', 'Kadar'],\n",
       "  ['çalışmak'],\n",
       "  ['demet'],\n",
       "  ['Ankara'],\n",
       "  ['Üniversitesi', 'üniversite'],\n",
       "  ['çalışmak'],\n",
       "  ['ali'],\n",
       "  ['demek', 'de'],\n",
       "  ['biz'],\n",
       "  ['piknik'],\n",
       "  ['gelmek', 'gelecek'],\n",
       "  ['Mi', 'mi'],\n",
       "  ['bir'],\n",
       "  ['tür', 'türlü'],\n",
       "  ['şu'],\n",
       "  ['çöp'],\n",
       "  ['kurtulmak']],\n",
       " [['ben'],\n",
       "  ['sabahtan', 'Sabah', 'sabah'],\n",
       "  ['akşam'],\n",
       "  ['kadar', 'Kadar'],\n",
       "  ['çalışmak'],\n",
       "  ['demet'],\n",
       "  ['Ankara'],\n",
       "  ['Üniversitesi', 'üniversite'],\n",
       "  ['çalışmak'],\n",
       "  ['ali'],\n",
       "  ['demek', 'de'],\n",
       "  ['biz'],\n",
       "  ['piknik'],\n",
       "  ['gelmek', 'gelecek'],\n",
       "  ['Mi', 'mi'],\n",
       "  ['bir'],\n",
       "  ['tür', 'türlü'],\n",
       "  ['şu'],\n",
       "  ['çöp'],\n",
       "  ['kurtulmak']],\n",
       " [['ben'],\n",
       "  ['sabahtan', 'Sabah', 'sabah'],\n",
       "  ['akşam'],\n",
       "  ['kadar', 'Kadar'],\n",
       "  ['çalışmak'],\n",
       "  ['demet'],\n",
       "  ['Ankara'],\n",
       "  ['Üniversitesi', 'üniversite'],\n",
       "  ['çalışmak'],\n",
       "  ['ali'],\n",
       "  ['demek', 'de'],\n",
       "  ['biz'],\n",
       "  ['piknik'],\n",
       "  ['gelmek', 'gelecek'],\n",
       "  ['Mi', 'mi'],\n",
       "  ['bir'],\n",
       "  ['tür', 'türlü'],\n",
       "  ['şu'],\n",
       "  ['çöp'],\n",
       "  ['kurtulmak']],\n",
       " [['ben'],\n",
       "  ['sabahtan', 'Sabah', 'sabah'],\n",
       "  ['akşam'],\n",
       "  ['kadar', 'Kadar'],\n",
       "  ['çalışmak'],\n",
       "  ['demet'],\n",
       "  ['Ankara'],\n",
       "  ['Üniversitesi', 'üniversite'],\n",
       "  ['çalışmak'],\n",
       "  ['ali'],\n",
       "  ['demek', 'de'],\n",
       "  ['biz'],\n",
       "  ['piknik'],\n",
       "  ['gelmek', 'gelecek'],\n",
       "  ['Mi', 'mi'],\n",
       "  ['bir'],\n",
       "  ['tür', 'türlü'],\n",
       "  ['şu'],\n",
       "  ['çöp'],\n",
       "  ['kurtulmak']],\n",
       " [['ben'],\n",
       "  ['sabahtan', 'Sabah', 'sabah'],\n",
       "  ['akşam'],\n",
       "  ['kadar', 'Kadar'],\n",
       "  ['çalışmak'],\n",
       "  ['demet'],\n",
       "  ['Ankara'],\n",
       "  ['Üniversitesi', 'üniversite'],\n",
       "  ['çalışmak'],\n",
       "  ['ali'],\n",
       "  ['demek', 'de'],\n",
       "  ['biz'],\n",
       "  ['piknik'],\n",
       "  ['gelmek', 'gelecek'],\n",
       "  ['Mi', 'mi'],\n",
       "  ['bir'],\n",
       "  ['tür', 'türlü'],\n",
       "  ['şu'],\n",
       "  ['çöp'],\n",
       "  ['kurtulmak']],\n",
       " [['ben'],\n",
       "  ['sabahtan', 'Sabah', 'sabah'],\n",
       "  ['akşam'],\n",
       "  ['kadar', 'Kadar'],\n",
       "  ['çalışmak'],\n",
       "  ['demet'],\n",
       "  ['Ankara'],\n",
       "  ['Üniversitesi', 'üniversite'],\n",
       "  ['çalışmak'],\n",
       "  ['ali'],\n",
       "  ['demek', 'de'],\n",
       "  ['biz'],\n",
       "  ['piknik'],\n",
       "  ['gelmek', 'gelecek'],\n",
       "  ['Mi', 'mi'],\n",
       "  ['bir'],\n",
       "  ['tür', 'türlü'],\n",
       "  ['şu'],\n",
       "  ['çöp'],\n",
       "  ['kurtulmak']],\n",
       " [['ben'],\n",
       "  ['sabahtan', 'Sabah', 'sabah'],\n",
       "  ['akşam'],\n",
       "  ['kadar', 'Kadar'],\n",
       "  ['çalışmak'],\n",
       "  ['demet'],\n",
       "  ['Ankara'],\n",
       "  ['Üniversitesi', 'üniversite'],\n",
       "  ['çalışmak'],\n",
       "  ['ali'],\n",
       "  ['demek', 'de'],\n",
       "  ['biz'],\n",
       "  ['piknik'],\n",
       "  ['gelmek', 'gelecek'],\n",
       "  ['Mi', 'mi'],\n",
       "  ['bir'],\n",
       "  ['tür', 'türlü'],\n",
       "  ['şu'],\n",
       "  ['çöp'],\n",
       "  ['kurtulmak']],\n",
       " [['ben'],\n",
       "  ['sabahtan', 'Sabah', 'sabah'],\n",
       "  ['akşam'],\n",
       "  ['kadar', 'Kadar'],\n",
       "  ['çalışmak'],\n",
       "  ['demet'],\n",
       "  ['Ankara'],\n",
       "  ['Üniversitesi', 'üniversite'],\n",
       "  ['çalışmak'],\n",
       "  ['ali'],\n",
       "  ['demek', 'de'],\n",
       "  ['biz'],\n",
       "  ['piknik'],\n",
       "  ['gelmek', 'gelecek'],\n",
       "  ['Mi', 'mi'],\n",
       "  ['bir'],\n",
       "  ['tür', 'türlü'],\n",
       "  ['şu'],\n",
       "  ['çöp'],\n",
       "  ['kurtulmak']],\n",
       " [['ben'],\n",
       "  ['sabahtan', 'Sabah', 'sabah'],\n",
       "  ['akşam'],\n",
       "  ['kadar', 'Kadar'],\n",
       "  ['çalışmak'],\n",
       "  ['demet'],\n",
       "  ['Ankara'],\n",
       "  ['Üniversitesi', 'üniversite'],\n",
       "  ['çalışmak'],\n",
       "  ['ali'],\n",
       "  ['demek', 'de'],\n",
       "  ['biz'],\n",
       "  ['piknik'],\n",
       "  ['gelmek', 'gelecek'],\n",
       "  ['Mi', 'mi'],\n",
       "  ['bir'],\n",
       "  ['tür', 'türlü'],\n",
       "  ['şu'],\n",
       "  ['çöp'],\n",
       "  ['kurtulmak']],\n",
       " [['ben'],\n",
       "  ['sabahtan', 'Sabah', 'sabah'],\n",
       "  ['akşam'],\n",
       "  ['kadar', 'Kadar'],\n",
       "  ['çalışmak'],\n",
       "  ['demet'],\n",
       "  ['Ankara'],\n",
       "  ['Üniversitesi', 'üniversite'],\n",
       "  ['çalışmak'],\n",
       "  ['ali'],\n",
       "  ['demek', 'de'],\n",
       "  ['biz'],\n",
       "  ['piknik'],\n",
       "  ['gelmek', 'gelecek'],\n",
       "  ['Mi', 'mi'],\n",
       "  ['bir'],\n",
       "  ['tür', 'türlü'],\n",
       "  ['şu'],\n",
       "  ['çöp'],\n",
       "  ['kurtulmak']],\n",
       " [['ben'],\n",
       "  ['sabahtan', 'Sabah', 'sabah'],\n",
       "  ['akşam'],\n",
       "  ['kadar', 'Kadar'],\n",
       "  ['çalışmak'],\n",
       "  ['demet'],\n",
       "  ['Ankara'],\n",
       "  ['Üniversitesi', 'üniversite'],\n",
       "  ['çalışmak'],\n",
       "  ['ali'],\n",
       "  ['demek', 'de'],\n",
       "  ['biz'],\n",
       "  ['piknik'],\n",
       "  ['gelmek', 'gelecek'],\n",
       "  ['Mi', 'mi'],\n",
       "  ['bir'],\n",
       "  ['tür', 'türlü'],\n",
       "  ['şu'],\n",
       "  ['çöp'],\n",
       "  ['kurtulmak']],\n",
       " [['ben'],\n",
       "  ['sabahtan', 'Sabah', 'sabah'],\n",
       "  ['akşam'],\n",
       "  ['kadar', 'Kadar'],\n",
       "  ['çalışmak'],\n",
       "  ['demet'],\n",
       "  ['Ankara'],\n",
       "  ['Üniversitesi', 'üniversite'],\n",
       "  ['çalışmak'],\n",
       "  ['ali'],\n",
       "  ['demek', 'de'],\n",
       "  ['biz'],\n",
       "  ['piknik'],\n",
       "  ['gelmek', 'gelecek'],\n",
       "  ['Mi', 'mi'],\n",
       "  ['bir'],\n",
       "  ['tür', 'türlü'],\n",
       "  ['şu'],\n",
       "  ['çöp'],\n",
       "  ['kurtulmak']],\n",
       " [['ben'],\n",
       "  ['sabahtan', 'Sabah', 'sabah'],\n",
       "  ['akşam'],\n",
       "  ['kadar', 'Kadar'],\n",
       "  ['çalışmak'],\n",
       "  ['demet'],\n",
       "  ['Ankara'],\n",
       "  ['Üniversitesi', 'üniversite'],\n",
       "  ['çalışmak'],\n",
       "  ['ali'],\n",
       "  ['demek', 'de'],\n",
       "  ['biz'],\n",
       "  ['piknik'],\n",
       "  ['gelmek', 'gelecek'],\n",
       "  ['Mi', 'mi'],\n",
       "  ['bir'],\n",
       "  ['tür', 'türlü'],\n",
       "  ['şu'],\n",
       "  ['çöp'],\n",
       "  ['kurtulmak']],\n",
       " [['ben'],\n",
       "  ['sabahtan', 'Sabah', 'sabah'],\n",
       "  ['akşam'],\n",
       "  ['kadar', 'Kadar'],\n",
       "  ['çalışmak'],\n",
       "  ['demet'],\n",
       "  ['Ankara'],\n",
       "  ['Üniversitesi', 'üniversite'],\n",
       "  ['çalışmak'],\n",
       "  ['ali'],\n",
       "  ['demek', 'de'],\n",
       "  ['biz'],\n",
       "  ['piknik'],\n",
       "  ['gelmek', 'gelecek'],\n",
       "  ['Mi', 'mi'],\n",
       "  ['bir'],\n",
       "  ['tür', 'türlü'],\n",
       "  ['şu'],\n",
       "  ['çöp'],\n",
       "  ['kurtulmak']],\n",
       " [['ben'],\n",
       "  ['sabahtan', 'Sabah', 'sabah'],\n",
       "  ['akşam'],\n",
       "  ['kadar', 'Kadar'],\n",
       "  ['çalışmak'],\n",
       "  ['demet'],\n",
       "  ['Ankara'],\n",
       "  ['Üniversitesi', 'üniversite'],\n",
       "  ['çalışmak'],\n",
       "  ['ali'],\n",
       "  ['demek', 'de'],\n",
       "  ['biz'],\n",
       "  ['piknik'],\n",
       "  ['gelmek', 'gelecek'],\n",
       "  ['Mi', 'mi'],\n",
       "  ['bir'],\n",
       "  ['tür', 'türlü'],\n",
       "  ['şu'],\n",
       "  ['çöp'],\n",
       "  ['kurtulmak']],\n",
       " [['ben'],\n",
       "  ['sabahtan', 'Sabah', 'sabah'],\n",
       "  ['akşam'],\n",
       "  ['kadar', 'Kadar'],\n",
       "  ['çalışmak'],\n",
       "  ['demet'],\n",
       "  ['Ankara'],\n",
       "  ['Üniversitesi', 'üniversite'],\n",
       "  ['çalışmak'],\n",
       "  ['ali'],\n",
       "  ['demek', 'de'],\n",
       "  ['biz'],\n",
       "  ['piknik'],\n",
       "  ['gelmek', 'gelecek'],\n",
       "  ['Mi', 'mi'],\n",
       "  ['bir'],\n",
       "  ['tür', 'türlü'],\n",
       "  ['şu'],\n",
       "  ['çöp'],\n",
       "  ['kurtulmak']],\n",
       " [['ben'],\n",
       "  ['sabahtan', 'Sabah', 'sabah'],\n",
       "  ['akşam'],\n",
       "  ['kadar', 'Kadar'],\n",
       "  ['çalışmak'],\n",
       "  ['demet'],\n",
       "  ['Ankara'],\n",
       "  ['Üniversitesi', 'üniversite'],\n",
       "  ['çalışmak'],\n",
       "  ['ali'],\n",
       "  ['demek', 'de'],\n",
       "  ['biz'],\n",
       "  ['piknik'],\n",
       "  ['gelmek', 'gelecek'],\n",
       "  ['Mi', 'mi'],\n",
       "  ['bir'],\n",
       "  ['tür', 'türlü'],\n",
       "  ['şu'],\n",
       "  ['çöp'],\n",
       "  ['kurtulmak']],\n",
       " [['ben'],\n",
       "  ['sabahtan', 'Sabah', 'sabah'],\n",
       "  ['akşam'],\n",
       "  ['kadar', 'Kadar'],\n",
       "  ['çalışmak'],\n",
       "  ['demet'],\n",
       "  ['Ankara'],\n",
       "  ['Üniversitesi', 'üniversite'],\n",
       "  ['çalışmak'],\n",
       "  ['ali'],\n",
       "  ['demek', 'de'],\n",
       "  ['biz'],\n",
       "  ['piknik'],\n",
       "  ['gelmek', 'gelecek'],\n",
       "  ['Mi', 'mi'],\n",
       "  ['bir'],\n",
       "  ['tür', 'türlü'],\n",
       "  ['şu'],\n",
       "  ['çöp'],\n",
       "  ['kurtulmak']],\n",
       " [['ben'],\n",
       "  ['sabahtan', 'Sabah', 'sabah'],\n",
       "  ['akşam'],\n",
       "  ['kadar', 'Kadar'],\n",
       "  ['çalışmak'],\n",
       "  ['demet'],\n",
       "  ['Ankara'],\n",
       "  ['Üniversitesi', 'üniversite'],\n",
       "  ['çalışmak'],\n",
       "  ['ali'],\n",
       "  ['demek', 'de'],\n",
       "  ['biz'],\n",
       "  ['piknik'],\n",
       "  ['gelmek', 'gelecek'],\n",
       "  ['Mi', 'mi'],\n",
       "  ['bir'],\n",
       "  ['tür', 'türlü'],\n",
       "  ['şu'],\n",
       "  ['çöp'],\n",
       "  ['kurtulmak']],\n",
       " [['ben'],\n",
       "  ['sabahtan', 'Sabah', 'sabah'],\n",
       "  ['akşam'],\n",
       "  ['kadar', 'Kadar'],\n",
       "  ['çalışmak'],\n",
       "  ['demet'],\n",
       "  ['Ankara'],\n",
       "  ['Üniversitesi', 'üniversite'],\n",
       "  ['çalışmak'],\n",
       "  ['ali'],\n",
       "  ['demek', 'de'],\n",
       "  ['biz'],\n",
       "  ['piknik'],\n",
       "  ['gelmek', 'gelecek'],\n",
       "  ['Mi', 'mi'],\n",
       "  ['bir'],\n",
       "  ['tür', 'türlü'],\n",
       "  ['şu'],\n",
       "  ['çöp'],\n",
       "  ['kurtulmak']]]"
      ]
     },
     "execution_count": 20,
     "metadata": {},
     "output_type": "execute_result"
    }
   ],
   "source": [
    "kok_kelimeler"
   ]
  },
  {
   "cell_type": "code",
   "execution_count": null,
   "id": "c2ee6538",
   "metadata": {},
   "outputs": [],
   "source": []
  }
 ],
 "metadata": {
  "kernelspec": {
   "display_name": "Python 3 (ipykernel)",
   "language": "python",
   "name": "python3"
  },
  "language_info": {
   "codemirror_mode": {
    "name": "ipython",
    "version": 3
   },
   "file_extension": ".py",
   "mimetype": "text/x-python",
   "name": "python",
   "nbconvert_exporter": "python",
   "pygments_lexer": "ipython3",
   "version": "3.9.12"
  }
 },
 "nbformat": 4,
 "nbformat_minor": 5
}
